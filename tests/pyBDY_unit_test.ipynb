{
 "cells": [
  {
   "cell_type": "markdown",
   "id": "550c79a6-fc27-4d17-a21a-75dd6659da15",
   "metadata": {},
   "source": [
    "## Ideas for unit testing in pyBDY"
   ]
  },
  {
   "cell_type": "markdown",
   "id": "596074da-1acc-4536-a270-6d15914d5620",
   "metadata": {},
   "source": [
    "Several of these routines have been adapted from pyDOMCFG developed by Mattia Almansi, Diego Druciaferri and James Harle."
   ]
  },
  {
   "cell_type": "code",
   "execution_count": 2,
   "id": "fb356b08-89a8-449a-bf3c-757e4a8c31ae",
   "metadata": {},
   "outputs": [],
   "source": [
    "import sys\n",
    "sys.path.insert(1, '/home/joaomorado/git_repos/PyNEMO_MyFork/tests')\n",
    "from bathymetry import *"
   ]
  },
  {
   "cell_type": "code",
   "execution_count": 3,
   "id": "bc2c7d6d-7799-4f8e-87ea-d8ded3921b21",
   "metadata": {},
   "outputs": [],
   "source": [
    "# Generate coordinates and bathymetry of parent and child - flat bottom case\n",
    "ds_bathy_child  = Bathymetry(0.5, 0.5, 20, 20, -10., 45., degrees=45).flat(5.0e3)\n",
    "ds_bathy_parent = Bathymetry(1., 1., 30, 30, -20., 35.).flat(5.0e3)"
   ]
  },
  {
   "cell_type": "code",
   "execution_count": 4,
   "id": "77c163cd-95af-47a4-af2a-e59821bc76e0",
   "metadata": {},
   "outputs": [],
   "source": [
    "# Create some vertical grid information\n",
    "z3t = xr.DataArray(np.arange(10.,2500.,20.), dims=(\"z\",))\n",
    "z3w = xr.DataArray(np.arange(0.,2500.,20.), dims=(\"z\",))\n",
    "e3t = xr.full_like(z3t, 20.)\n",
    "e3w = xr.full_like(z3t, 20.)"
   ]
  },
  {
   "cell_type": "code",
   "execution_count": 5,
   "id": "28d8bef9-0792-4250-8daa-72e0508c2d0d",
   "metadata": {},
   "outputs": [],
   "source": [
    "# Merge the vertical grid information with coordinates and bathymetry\n",
    "ds_domcfg_parent = merge_z3_and_e3(ds_bathy_parent, z3t, z3w, e3t, e3w)\n",
    "ds_domcfg_child  = merge_z3_and_e3(ds_bathy_child , z3t, z3w, e3t, e3w)\n",
    "\n",
    "# Generate variables to use as source data\n",
    "ds_var = generate_variables(ds_domcfg_parent,)"
   ]
  },
  {
   "cell_type": "code",
   "execution_count": 7,
   "id": "7ac7bde6-1d77-45c3-973e-925a946c8c54",
   "metadata": {},
   "outputs": [],
   "source": [
    "# Save to file\n",
    "ds_domcfg_parent.to_netcdf('/home/joaomorado/git_repos/PyNEMO_MyFork/parent.nc')\n",
    "ds_domcfg_child.to_netcdf('/home/joaomorado/git_repos/PyNEMO_MyFork/child_rot45.nc')\n",
    "ds_var.to_netcdf('/home/joaomorado/git_repos/PyNEMO_MyFork/variables.nc')"
   ]
  },
  {
   "cell_type": "code",
   "execution_count": 8,
   "id": "70b084d1-c28c-49ce-8a3c-d35860eefb3a",
   "metadata": {},
   "outputs": [
    {
     "data": {
      "image/png": "[encoded data removed]",
      "text/plain": [
       "<Figure size 640x480 with 1 Axes>"
      ]
     },
     "metadata": {},
     "output_type": "display_data"
    }
   ],
   "source": [
    "# Does it look ok?\n",
    "plt.plot(ds_bathy_child.glamt, ds_bathy_child.gphit,'go')\n",
    "plt.plot(ds_bathy_parent.glamt, ds_bathy_parent.gphit,'r.')\n",
    "plt.title('Parent and $45\\degree$ rotated child grid');"
   ]
  },
  {
   "cell_type": "markdown",
   "id": "81b5c6ac-7b67-48d6-99e7-03db18f640c9",
   "metadata": {},
   "source": [
    "### Other setups to consider\n",
    "\n",
    "- [ ] flat bottom (parent) -> flat bottom (child) with and without different vertical discretisation (in z and sigma)\n",
    "- [ ] realistic bathymetry (parent) -> realistic bathymetry (child) with and without different vertical discretisation (in z and sigma)\n",
    "- [ ] rotation of parent or child grid or both\n",
    "- [ ] uniform and realistic tracer field"
   ]
  },
  {
   "cell_type": "code",
   "execution_count": null,
   "id": "c13521d0-7246-452f-946a-65149e840738",
   "metadata": {},
   "outputs": [],
   "source": []
  },
  {
   "cell_type": "code",
   "execution_count": null,
   "id": "8ad64960-b6e7-480a-b154-0bab8ba7e6a8",
   "metadata": {},
   "outputs": [],
   "source": []
  },
  {
   "cell_type": "code",
   "execution_count": null,
   "id": "da671525-4d1c-4a53-8917-6bf489c739e0",
   "metadata": {},
   "outputs": [],
   "source": []
  },
  {
   "cell_type": "code",
   "execution_count": null,
   "id": "910c47c4-c1b4-46fb-8ecb-42b4e198b647",
   "metadata": {},
   "outputs": [],
   "source": []
  },
  {
   "cell_type": "code",
   "execution_count": null,
   "id": "0bd060a1-b787-48ab-8919-298bb3db13bd",
   "metadata": {},
   "outputs": [],
   "source": []
  },
  {
   "cell_type": "code",
   "execution_count": null,
   "id": "8d73ee84-84e2-44cf-b816-a11be8c997d1",
   "metadata": {},
   "outputs": [],
   "source": []
  },
  {
   "cell_type": "code",
   "execution_count": null,
   "id": "eb676b83-2236-434b-a0cf-16d174597277",
   "metadata": {},
   "outputs": [],
   "source": []
  },
  {
   "cell_type": "code",
   "execution_count": null,
   "id": "2a578b5c-2650-4f50-ba6d-f6c98e5d8903",
   "metadata": {},
   "outputs": [],
   "source": []
  },
  {
   "cell_type": "code",
   "execution_count": null,
   "id": "ceeafa12-8da1-4eee-af3c-76c1ab15bc70",
   "metadata": {},
   "outputs": [],
   "source": []
  },
  {
   "cell_type": "code",
   "execution_count": null,
   "id": "20445f01-f0a0-43d5-803c-cc60652498e3",
   "metadata": {},
   "outputs": [],
   "source": []
  }
 ],
 "metadata": {
  "kernelspec": {
   "display_name": "Python 3 (ipykernel)",
   "language": "python",
   "name": "python3"
  },
  "language_info": {
   "codemirror_mode": {
    "name": "ipython",
    "version": 3
   },
   "file_extension": ".py",
   "mimetype": "text/x-python",
   "name": "python",
   "nbconvert_exporter": "python",
   "pygments_lexer": "ipython3",
   "version": "3.9.16"
  }
 },
 "nbformat": 4,
 "nbformat_minor": 5
}
